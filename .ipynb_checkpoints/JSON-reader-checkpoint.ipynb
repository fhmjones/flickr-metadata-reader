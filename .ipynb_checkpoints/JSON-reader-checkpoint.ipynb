{
 "cells": [
  {
   "cell_type": "markdown",
   "id": "ca0d1b0f",
   "metadata": {},
   "source": [
    "To test multifile reading of JSON files representing Flickr image metadata"
   ]
  },
  {
   "cell_type": "code",
   "execution_count": 1,
   "id": "78c0f917",
   "metadata": {},
   "outputs": [
    {
     "name": "stdout",
     "output_type": "stream",
     "text": [
      "C:\\Users\\fhmjo\\repos\\flickr-metadata-reader\\data\n"
     ]
    },
    {
     "data": {
      "text/plain": [
       "68"
      ]
     },
     "execution_count": 1,
     "metadata": {},
     "output_type": "execute_result"
    }
   ],
   "source": [
    "import json\n",
    "import os\n",
    "\n",
    "# Folder Path\n",
    "path = \"data\"\n",
    "os.chdir(path)\n",
    "count=0\n",
    "\n",
    "print(os.getcwd())\n",
    "\n",
    "#open blank CSV file\n",
    "#NOTE the encoding may not be correct, but leaving this off results in crash when there is a Romanian location.\n",
    "#This happens with file \"photo_32825732587.json\", \n",
    "outf = open(\"demofile.csv\", \"w\", encoding=\"utf-16\") #re-write, NOT appending.\n",
    "\n",
    "#print CSV file's top row\n",
    "#NOTE: use tabs not commas to avoid confusion when Excel opens the CSV file\n",
    "outf.write(\"name\\tPMElocn\\tflickrpage\\timageurl\\taccuracy\\tlat\\tlong\\ttags\\tdescription\\n\")\n",
    "#file is now open, don't forget to close it."
   ]
  },
  {
   "cell_type": "code",
   "execution_count": 2,
   "id": "90850fa5",
   "metadata": {},
   "outputs": [
    {
     "name": "stdout",
     "output_type": "stream",
     "text": [
      "file 1 = photo_31972215397.json\n",
      "file 2 = photo_31972215497.json\n",
      "file 3 = photo_31972215637.json\n",
      "file 4 = photo_31972215767.json\n",
      "file 5 = photo_31972215907.json\n",
      "file 6 = photo_31972216077.json\n",
      "file 7 = photo_31972216377.json\n",
      "file 8 = photo_31972216447.json\n",
      "file 9 = photo_31972216887.json\n",
      "file 10 = photo_31972216987.json\n",
      "file 11 = photo_31972217047.json\n",
      "file 12 = photo_31972217107.json\n",
      "file 13 = photo_31972217207.json\n",
      "file 14 = photo_31972217367.json\n",
      "file 15 = photo_31984081747.json\n",
      "file 16 = photo_31984081997.json\n",
      "file 17 = photo_31984083507.json\n",
      "file 18 = photo_31984083827.json\n",
      "file 19 = photo_31984084277.json\n",
      "file 20 = photo_31984084597.json\n",
      "file 21 = photo_31984084857.json\n",
      "file 22 = photo_31984085127.json\n",
      "file 23 = photo_31984085327.json\n",
      "file 24 = photo_31984085567.json\n",
      "file 25 = photo_31984085837.json\n",
      "file 26 = photo_31984086007.json\n",
      "file 27 = photo_31984086317.json\n",
      "file 28 = photo_31984086467.json\n",
      "file 29 = photo_31984086777.json\n",
      "file 30 = photo_31984087077.json\n",
      "file 31 = photo_31984087387.json\n",
      "file 32 = photo_31984087667.json\n",
      "file 33 = photo_31984127357.json\n",
      "file 34 = photo_31984127537.json\n",
      "file 35 = photo_31984127807.json\n",
      "file 36 = photo_31984128057.json\n",
      "file 37 = photo_31984128207.json\n",
      "file 38 = photo_31984128427.json\n",
      "file 39 = photo_31984128577.json\n",
      "file 40 = photo_31984141637.json\n",
      "file 41 = photo_31984144687.json\n",
      "file 42 = photo_31984145067.json\n",
      "file 43 = photo_31984145407.json\n",
      "file 44 = photo_31984145847.json\n",
      "file 45 = photo_31984146707.json\n",
      "file 46 = photo_32809634437.json\n",
      "file 47 = photo_32809634747.json\n",
      "file 48 = photo_32809634887.json\n",
      "file 49 = photo_32809635117.json\n",
      "file 50 = photo_32809635237.json\n",
      "file 51 = photo_32809635337.json\n",
      "file 52 = photo_32809635587.json\n",
      "file 53 = photo_32809637627.json\n",
      "file 54 = photo_32809637777.json\n",
      "file 55 = photo_32809637927.json\n",
      "file 56 = photo_32809638007.json\n",
      "file 57 = photo_32809638207.json\n",
      "file 58 = photo_32809638277.json\n",
      "file 59 = photo_32809638337.json\n",
      "file 60 = photo_32809638437.json\n",
      "file 61 = photo_32809638557.json\n",
      "file 62 = photo_32809638617.json\n",
      "file 63 = photo_32809638717.json\n",
      "file 64 = photo_32809638817.json\n",
      "file 65 = photo_32809638977.json\n",
      "file 66 = photo_32809639067.json\n",
      "file 67 = photo_32809639197.json\n",
      "file 68 = photo_32809639347.json\n",
      "file 69 = photo_32809639427.json\n",
      "file 70 = photo_32809639487.json\n",
      "file 71 = photo_32809639607.json\n",
      "file 72 = photo_32825732397.json\n",
      "file 73 = photo_32825732507.json\n",
      "file 74 = photo_32825732587.json\n",
      "file 75 = photo_32825732767.json\n",
      "75 files processed.\n"
     ]
    }
   ],
   "source": [
    "# Read JSON File \n",
    "\n",
    "for file in os.listdir(): \n",
    "    # Check whether file is a JSON file \n",
    "    if file.endswith(\".json\"):         \n",
    "        file_path = f\"{os.getcwd()}/{file}\"\n",
    "        inf = open(file_path, 'r')\n",
    "        data = json.load(inf)\n",
    "        \n",
    "        #pick out parameters\n",
    "        name = data[\"name\"]\n",
    "        photopage = data[\"photopage\"]\n",
    "        original = data[\"original\"]\n",
    "        \n",
    "        #description may have unwanted newline characters:\n",
    "        descr = data[\"description\"]\n",
    "        descrip = descr.replace(\"\\n\\n\", \"\\n\")\n",
    "        description = descrip.replace(\"\\n\", \", \")\n",
    "\n",
    "        #pick out lat/long/accuracy - a list\n",
    "        latlon = data[\"geo\"]\n",
    "        \n",
    "        if len(latlon) < 1:\n",
    "            lat = 0\n",
    "            lon = 0\n",
    "            acc = 0\n",
    "        else:\n",
    "            lat = latlon[0]['latitude']\n",
    "            lon = latlon[0]['longitude']\n",
    "            acc = latlon[0]['accuracy']\n",
    "        \n",
    "        #pick out cabinet - an array of lists\n",
    "        #could be >1, but ideally specimens should be in only one album (i.e. one PME cabinet)\n",
    "        album_array = data[\"albums\"]\n",
    "        i = len(album_array)\n",
    "        PMElocn = \"\"\n",
    "\n",
    "        for x in range(i):\n",
    "            PMElocn += album_array[x-1][\"title\"]\n",
    "            if x<i-1:\n",
    "                PMElocn += \", \"\n",
    "        \n",
    "        #pick out tags - an array of lists\n",
    "        tag_array = data[\"tags\"]\n",
    "        i2 = len(tag_array)\n",
    "        tag_list = \"\"\n",
    "\n",
    "        for x in range(i2):\n",
    "            tag_list += tag_array[x][\"tag\"]\n",
    "            if x<i2-1: \n",
    "                tag_list += \", \"\n",
    "        \n",
    "        #concatenate the components for a row in the CSV file\n",
    "        #NOTE: use tabs not commas to avoid confusion when Excel opens the CSV file\n",
    "        string = f\"\\\"{name}\\\"\\t\\\"{PMElocn}\\\"\\t{photopage}\\t{original}\\t{acc}\\t{lat}\\t{lon}\\t\\\"{tag_list}\\\"\\t\\\"{description}\\\"\\n\"\n",
    "        \n",
    "        outf.write(string)\n",
    "        count = count+1\n",
    "        print(f\"file {count} = {file}\")\n",
    "\n",
    "#save and close the file\n",
    "outf.close()\n",
    "print(f\"{count}\",\"files processed.\")"
   ]
  },
  {
   "cell_type": "code",
   "execution_count": 3,
   "id": "ab141550",
   "metadata": {},
   "outputs": [
    {
     "name": "stdout",
     "output_type": "stream",
     "text": [
      "75 files processed.\n"
     ]
    }
   ],
   "source": [
    "outf.close()\n",
    "print(f\"{count}\",\"files processed.\")"
   ]
  },
  {
   "cell_type": "code",
   "execution_count": null,
   "id": "f98c6b58",
   "metadata": {},
   "outputs": [],
   "source": []
  }
 ],
 "metadata": {
  "jupytext": {
   "formats": "ipynb,md"
  },
  "kernelspec": {
   "display_name": "Python 3 (ipykernel)",
   "language": "python",
   "name": "python3"
  },
  "language_info": {
   "codemirror_mode": {
    "name": "ipython",
    "version": 3
   },
   "file_extension": ".py",
   "mimetype": "text/x-python",
   "name": "python",
   "nbconvert_exporter": "python",
   "pygments_lexer": "ipython3",
   "version": "3.9.13"
  }
 },
 "nbformat": 4,
 "nbformat_minor": 5
}
