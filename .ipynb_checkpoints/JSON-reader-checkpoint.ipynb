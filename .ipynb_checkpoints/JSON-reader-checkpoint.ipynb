{
 "cells": [
  {
   "cell_type": "markdown",
   "id": "eae76376",
   "metadata": {},
   "source": [
    "To test multifile reading of JSON files representing Flickr image metadata"
   ]
  },
  {
   "cell_type": "code",
   "execution_count": 1,
   "id": "de174d7c",
   "metadata": {},
   "outputs": [
    {
     "name": "stdout",
     "output_type": "stream",
     "text": [
      "C:\\Users\\fhmjo\\repos\\flickr-metadata-reader\\data\n"
     ]
    },
    {
     "data": {
      "text/plain": [
       "148"
      ]
     },
     "execution_count": 1,
     "metadata": {},
     "output_type": "execute_result"
    }
   ],
   "source": [
    "import json\n",
    "import os\n",
    "\n",
    "# Folder Path\n",
    "path = \"data\"\n",
    "os.chdir(path)\n",
    "count=0\n",
    "\n",
    "print(os.getcwd())\n",
    "\n",
    "#open blank CSV file\n",
    "#NOTE the encoding may not be correct, but leaving this off results in crash when there is a Romanian location.\n",
    "#This happens with file \"photo_32825732587.json\", \n",
    "outf = open(\"demofile.csv\", \"w\", encoding=\"utf-16\") #re-write, NOT appending.\n",
    "\n",
    "#print CSV file's top row\n",
    "#NOTE: use tabs not commas to avoid confusion when Excel opens the CSV file\n",
    "outf.write(\"name\\tPMElocn\\tflickrpage\\timageurl\\taccuracy\\tlat\\tlong\\ttags\\tdescription\\tcount_views\\tcount_faves\\tcount_comments\\tdate_taken\\tdate_imported\\tlicense\\tprivacy\\n\")\n",
    "#file is now open, don't forget to close it."
   ]
  },
  {
   "cell_type": "code",
   "execution_count": 2,
   "id": "85d21487",
   "metadata": {},
   "outputs": [
    {
     "name": "stdout",
     "output_type": "stream",
     "text": [
      "7714 files processed.\n"
     ]
    }
   ],
   "source": [
    "# Read JSON File \n",
    "\n",
    "for file in os.listdir(): \n",
    "    # Check whether file is a JSON file \n",
    "    if file.endswith(\".json\"):         \n",
    "        file_path = f\"{os.getcwd()}/{file}\"\n",
    "        inf = open(file_path, 'r')\n",
    "        data = json.load(inf)\n",
    "        \n",
    "        #pick out parameters\n",
    "        name = data[\"name\"]\n",
    "        photopage = data[\"photopage\"]\n",
    "        original = data[\"original\"]\n",
    "        count_views = data[\"count_views\"]\n",
    "        count_faves = data[\"count_faves\"]\n",
    "        count_comments = data[\"count_comments\"]\n",
    "        date_taken = data[\"date_taken\"]\n",
    "        date_imported = data[\"date_imported\"]\n",
    "        license = data[\"license\"]\n",
    "        privacy = data[\"privacy\"]\n",
    "        \n",
    "        #description may have unwanted newline characters:\n",
    "        descr = data[\"description\"]\n",
    "        descrip = descr.replace(\"\\n\\n\", \"\\n\")\n",
    "        description = descrip.replace(\"\\n\", \", \")\n",
    "\n",
    "        #pick out lat/long/accuracy - a list\n",
    "        latlon = data[\"geo\"]\n",
    "        \n",
    "        if len(latlon) < 1:\n",
    "            lat = 0\n",
    "            lon = 0\n",
    "            acc = 0\n",
    "        else:\n",
    "            lat = latlon[0]['latitude']\n",
    "            lon = latlon[0]['longitude']\n",
    "            acc = latlon[0]['accuracy']\n",
    "        \n",
    "        #pick out cabinet - an array of lists\n",
    "        #could be >1, but ideally specimens should be in only one album (i.e. one PME cabinet)\n",
    "        album_array = data[\"albums\"]\n",
    "        i = len(album_array)\n",
    "        PMElocn = \"\"\n",
    "\n",
    "        for x in range(i):\n",
    "            PMElocn += album_array[x][\"title\"]\n",
    "            if x<i-1:\n",
    "                PMElocn += \", \"\n",
    "        \n",
    "        #pick out tags - an array of lists\n",
    "        tag_array = data[\"tags\"]\n",
    "        i2 = len(tag_array)\n",
    "        tag_list = \"\"\n",
    "\n",
    "        for x in range(i2):\n",
    "            tag_list += tag_array[x][\"tag\"]\n",
    "            if x<i2-1: \n",
    "                tag_list += \", \"\n",
    "        \n",
    "        #concatenate the components for a row in the CSV file\n",
    "        #NOTE: use tabs not commas to avoid confusion when Excel opens the CSV file\n",
    "        string = f\"\\\"{name}\\\"\\t\\\"{PMElocn}\\\"\\t{photopage}\\t{original}\\t{acc}\\t{lat}\\t{lon}\\t\\\"{tag_list}\\\"\\t\\\"{description}\\\"\\t{count_views}\\t{count_faves}\\t{count_comments}\\t\\\"{date_taken}\\\"\\t\\\"{date_imported}\\\"\\t\\\"{license}\\\"\\t\\\"{privacy}\\\"\\n\"\n",
    "        \n",
    "        outf.write(string)\n",
    "        count = count+1\n",
    "        #print(count)\n",
    "\n",
    "#save and close the file\n",
    "outf.close()\n",
    "print(f\"{count}\",\"files processed.\")"
   ]
  },
  {
   "cell_type": "code",
   "execution_count": null,
   "id": "9bcdd8ed",
   "metadata": {},
   "outputs": [],
   "source": []
  }
 ],
 "metadata": {
  "jupytext": {
   "formats": "ipynb,md"
  },
  "kernelspec": {
   "display_name": "Python 3 (ipykernel)",
   "language": "python",
   "name": "python3"
  },
  "language_info": {
   "codemirror_mode": {
    "name": "ipython",
    "version": 3
   },
   "file_extension": ".py",
   "mimetype": "text/x-python",
   "name": "python",
   "nbconvert_exporter": "python",
   "pygments_lexer": "ipython3",
   "version": "3.9.13"
  }
 },
 "nbformat": 4,
 "nbformat_minor": 5
}
